{
  "nbformat": 4,
  "nbformat_minor": 0,
  "metadata": {
    "colab": {
      "name": "Small GAN_Risk.ipynb",
      "provenance": [],
      "collapsed_sections": []
    },
    "kernelspec": {
      "name": "python3",
      "display_name": "Python 3"
    },
    "accelerator": "GPU"
  },
  "cells": [
    {
      "cell_type": "code",
      "metadata": {
        "id": "2XGJCXu_c1vm",
        "colab_type": "code",
        "outputId": "07b92340-4b1f-4ac1-d1d3-d5f36b2ddffa",
        "colab": {
          "base_uri": "https://localhost:8080/",
          "height": 377
        }
      },
      "source": [
        "!pip install yfinance\n",
        "import yfinance as yf\n",
        "import pandas as pd\n",
        "import numpy as np\n",
        "import matplotlib.pyplot as plt\n",
        "%matplotlib inline\n",
        "import torch\n",
        "import torch.nn as nn\n",
        "import torch.optim as optim\n",
        "from torch.autograd import Variable\n",
        "import torch.nn.init as init"
      ],
      "execution_count": 1,
      "outputs": [
        {
          "output_type": "stream",
          "text": [
            "Collecting yfinance\n",
            "  Downloading https://files.pythonhosted.org/packages/85/56/5e26c150517acbdce8e31d3e6169530e102a0575f5eb1a4310753e53a424/yfinance-0.1.50.tar.gz\n",
            "Requirement already satisfied: pandas>=0.24 in /usr/local/lib/python3.6/dist-packages (from yfinance) (0.25.3)\n",
            "Requirement already satisfied: numpy>=1.15 in /usr/local/lib/python3.6/dist-packages (from yfinance) (1.17.4)\n",
            "Requirement already satisfied: requests>=2.20 in /usr/local/lib/python3.6/dist-packages (from yfinance) (2.21.0)\n",
            "Requirement already satisfied: multitasking>=0.0.7 in /usr/local/lib/python3.6/dist-packages (from yfinance) (0.0.9)\n",
            "Requirement already satisfied: python-dateutil>=2.6.1 in /usr/local/lib/python3.6/dist-packages (from pandas>=0.24->yfinance) (2.6.1)\n",
            "Requirement already satisfied: pytz>=2017.2 in /usr/local/lib/python3.6/dist-packages (from pandas>=0.24->yfinance) (2018.9)\n",
            "Requirement already satisfied: idna<2.9,>=2.5 in /usr/local/lib/python3.6/dist-packages (from requests>=2.20->yfinance) (2.8)\n",
            "Requirement already satisfied: certifi>=2017.4.17 in /usr/local/lib/python3.6/dist-packages (from requests>=2.20->yfinance) (2019.9.11)\n",
            "Requirement already satisfied: chardet<3.1.0,>=3.0.2 in /usr/local/lib/python3.6/dist-packages (from requests>=2.20->yfinance) (3.0.4)\n",
            "Requirement already satisfied: urllib3<1.25,>=1.21.1 in /usr/local/lib/python3.6/dist-packages (from requests>=2.20->yfinance) (1.24.3)\n",
            "Requirement already satisfied: six>=1.5 in /usr/local/lib/python3.6/dist-packages (from python-dateutil>=2.6.1->pandas>=0.24->yfinance) (1.12.0)\n",
            "Building wheels for collected packages: yfinance\n",
            "  Building wheel for yfinance (setup.py) ... \u001b[?25l\u001b[?25hdone\n",
            "  Created wheel for yfinance: filename=yfinance-0.1.50-py2.py3-none-any.whl size=21556 sha256=499052ce4856bfe96f8595060e6ef6ee70da91c912717fc08c5895766befefc9\n",
            "  Stored in directory: /root/.cache/pip/wheels/19/2a/e6/b4d4cc977576e18220a36866acf2f2cf7241f16af5f8795b17\n",
            "Successfully built yfinance\n",
            "Installing collected packages: yfinance\n",
            "Successfully installed yfinance-0.1.50\n"
          ],
          "name": "stdout"
        }
      ]
    },
    {
      "cell_type": "code",
      "metadata": {
        "id": "JTZVkvF9Z2kM",
        "colab_type": "code",
        "outputId": "6e5d9d73-fe56-4856-d79f-93b971a09ee3",
        "colab": {
          "base_uri": "https://localhost:8080/",
          "height": 34
        }
      },
      "source": [
        "price = yf.download(\"AAPL\")"
      ],
      "execution_count": 2,
      "outputs": [
        {
          "output_type": "stream",
          "text": [
            "\r[*********************100%***********************]  1 of 1 completed\n"
          ],
          "name": "stdout"
        }
      ]
    },
    {
      "cell_type": "code",
      "metadata": {
        "id": "IqkAaINJvw0i",
        "colab_type": "code",
        "outputId": "5d7a7883-3efe-4150-95e0-6fac52463040",
        "colab": {
          "base_uri": "https://localhost:8080/",
          "height": 286
        }
      },
      "source": [
        "price['Adj Close'].plot()"
      ],
      "execution_count": 3,
      "outputs": [
        {
          "output_type": "execute_result",
          "data": {
            "text/plain": [
              "<matplotlib.axes._subplots.AxesSubplot at 0x7ff7c3c747b8>"
            ]
          },
          "metadata": {
            "tags": []
          },
          "execution_count": 3
        },
        {
          "output_type": "display_data",
          "data": {
            "image/png": "[encoded data removed]",
            "text/plain": [
              "<Figure size 432x288 with 1 Axes>"
            ]
          },
          "metadata": {
            "tags": []
          }
        }
      ]
    },
    {
      "cell_type": "code",
      "metadata": {
        "id": "J3TaZhsnVp6z",
        "colab_type": "code",
        "colab": {}
      },
      "source": [
        "class MTimeSLoader():\n",
        "    def __init__(self, price,batch_size,seq_len):\n",
        "        self.price = price\n",
        "        self.batch_size = batch_size\n",
        "        self.seq_len = seq_len\n",
        "\n",
        "    def RSICalc(self,price):\n",
        "        delta = price['Adj Close'].diff()\n",
        "        dUp, dDown = delta.copy(), delta.copy()\n",
        "        dUp[dUp < 0] = 0\n",
        "        dDown[dDown > 0] = 0\n",
        "        RolUp = dUp.rolling(window=14).mean()\n",
        "        RolDown = dDown.abs().rolling(window=14).mean()\n",
        "        return np.where(RolDown != 0,RolUp / RolDown,1)\n",
        "\n",
        "    def getTI(self,price):\n",
        "        adjustment = price['Adj Close']/price['Close']\n",
        "\n",
        "        # VOLITILIY\n",
        "        # Bollinger Bands\n",
        "        std_20 = price['Adj Close'].rolling(window=20).std() \n",
        "        ub = price['Adj Close'] - 2 * std_20\n",
        "        lb = price['Adj Close'] + 2 * std_20\n",
        "\n",
        "        # TREND\n",
        "        # Moving Averages\n",
        "        ma_10 = price['Adj Close'].rolling(window=10).mean()\n",
        "        ma_20 = price['Adj Close'].rolling(window=20).mean()\n",
        "\n",
        "        # Moving Averae Convergence Divergence\n",
        "        ema_26 = pd.Series.ewm(price['Adj Close'],span=26).mean()\n",
        "        ema_12 = pd.Series.ewm(price['Adj Close'],span=12).mean()\n",
        "        macd = ema_26-ema_12\n",
        "\n",
        "        # MOMENTUM \n",
        "        # RSI \n",
        "        rsi = self.RSICalc(price)\n",
        "        return pd.DataFrame({'ma_10':ma_10,'ma_20':ma_20,'macd':macd,'bol_lb':lb,'bol_up':ub, 'rsi':rsi})\n",
        "\n",
        "    def getFI(self,price):\n",
        "        return pd.DataFrame({})\n",
        "\n",
        "    def getFFTComponents(self,price):\n",
        "        close_fft = np.fft.fft(np.asarray(price['Adj Close'].tolist()))\n",
        "        fft_df = pd.DataFrame({'fft':close_fft})\n",
        "        real = fft_df['fft'].apply(lambda x: np.abs(x))\n",
        "        angle = fft_df['fft'].apply(lambda x: np.angle(x))\n",
        "        df =  pd.DataFrame(data = {'real':real,'angle':angle})\n",
        "        df.index = price.index\n",
        "        return df\n",
        "\n",
        "    def getFeatures(self,price):\n",
        "        return pd.concat([price['Adj Close'].pct_change(),]) # self.getTI(price), self.getFI(price), self.getFFTComponents(price)],axis=1)\n",
        "\n",
        "    def __len__(self):\n",
        "        return len(self.prices.shape[0])\n",
        "\n",
        "    def get(self):\n",
        "        data = self.getFeatures(self.price)[30:]\n",
        "        filt = data.to_numpy()[self.seq_len:]\n",
        "        items = filt.shape[0]\n",
        "        choice = np.random.choice(items, self.batch_size, replace=False)\n",
        "        return np.vstack([np.vstack([filt[r] for r in range(i-self.seq_len,i)]).reshape(self.seq_len,-1) for i in choice]).reshape(self.batch_size,self.seq_len,-1)\n"
      ],
      "execution_count": 0,
      "outputs": []
    },
    {
      "cell_type": "code",
      "metadata": {
        "id": "Ny6VOomcyrBQ",
        "colab_type": "code",
        "outputId": "8e061d25-8577-4afe-e0be-e2ce037345c1",
        "colab": {
          "base_uri": "https://localhost:8080/",
          "height": 394
        }
      },
      "source": [
        "import numpy as np\n",
        "import torch\n",
        "import torch.nn as nn\n",
        "import torch.optim as optim\n",
        "from torch.autograd import Variable\n",
        "\n",
        "\n",
        "def get_distribution_sampler(price,window_size):\n",
        "    return MTimeSLoader(price,1,window_size).get()\n",
        "\n",
        "def get_generator_input_sampler(nz):\n",
        "    return torch.randn(1,nz)\n",
        "\n",
        "class Generator(nn.Module):\n",
        "    def __init__(self, input_size, hidden_size, output_size, f):\n",
        "        super(Generator, self).__init__()\n",
        "        self.map1 = nn.Linear(input_size, hidden_size)\n",
        "        self.map2 = nn.Linear(hidden_size, hidden_size)\n",
        "        self.map3 = nn.Linear(hidden_size, output_size)\n",
        "        self.f = f\n",
        "    \n",
        "    def forward(self, x):\n",
        "        x = self.f(self.map1(x))\n",
        "        x = self.f(self.map2(x))\n",
        "        return self.f(self.map3(x))\n",
        "\n",
        "class Discriminator(nn.Module):\n",
        "    def __init__(self, input_size, hidden_size, output_size, f):\n",
        "        super(Discriminator, self).__init__()\n",
        "        self.map1 = nn.Linear(input_size, hidden_size)\n",
        "        self.map2 = nn.Linear(hidden_size, hidden_size)\n",
        "        self.map3 = nn.Linear(hidden_size, output_size)\n",
        "        self.f = f\n",
        "        self.dropout = nn.Dropout(p=0.5)\n",
        "        self.soft = nn.Softmax()\n",
        "\n",
        "    def forward(self, x):\n",
        "        x = self.map1(x)\n",
        "        x = self.dropout(self.f(x))\n",
        "        x = self.map2(x)\n",
        "        x = self.dropout(self.f(x))\n",
        "        x = self.map3(x)\n",
        "        return self.soft(x)\n",
        "\n",
        "def extract(v):\n",
        "    return v.data.storage().tolist()\n",
        "\n",
        "def stats(d):\n",
        "    return [np.mean(d), np.std(d)]\n",
        "\n",
        "def train(price,window_size):\n",
        "    # Model parameters\n",
        "    g_input_size = 50      # Random noise dimension coming into generator, per output vector\n",
        "    g_hidden_size = 100     # Generator complexity\n",
        "    g_output_size = 1     # Size of generated output vector\n",
        "    d_input_size = 1    # Minibatch size - cardinality of distributions\n",
        "    d_hidden_size = 100    # Discriminator complexity\n",
        "    d_output_size = 1     # Single dimension for 'real' vs. 'fake' classification\n",
        "    minibatch_size = d_input_size\n",
        "\n",
        "    d_learning_rate = 0.0004\n",
        "    g_learning_rate = 0.0001\n",
        "    sgd_momentum = 0.9\n",
        "\n",
        "    num_epochs = 1000\n",
        "    print_interval = 50\n",
        "    d_steps = 20\n",
        "    g_steps = 20\n",
        "\n",
        "    dfe, dre, ge = 0, 0, 0\n",
        "    d_real_data, d_fake_data, g_fake_data = None, None, None\n",
        "\n",
        "    discriminator_activation_function = torch.sigmoid\n",
        "    generator_activation_function = torch.tanh\n",
        "\n",
        "    G = Generator(input_size=g_input_size,\n",
        "                  hidden_size=g_hidden_size,\n",
        "                  output_size=g_output_size,\n",
        "                  f=generator_activation_function).float()\n",
        "    D = Discriminator(input_size=d_input_size,\n",
        "                      hidden_size=d_hidden_size,\n",
        "                      output_size=d_output_size,\n",
        "                      f=discriminator_activation_function).float()\n",
        "    criterion = nn.BCELoss()\n",
        "\n",
        "    d_optimizer = optim.SGD(D.parameters(), lr=d_learning_rate, momentum=sgd_momentum)\n",
        "    g_optimizer = optim.SGD(G.parameters(), lr=g_learning_rate, momentum=sgd_momentum)\n",
        "\n",
        "    for epoch in range(num_epochs):\n",
        "        for d_index in range(d_steps):\n",
        "            D.zero_grad()\n",
        "            d_real_data = torch.from_numpy(get_distribution_sampler(price,window_size)).view(1,window_size).float()\n",
        "            d_real_decision = D(d_real_data)\n",
        "            d_real_error = criterion(d_real_decision, Variable(torch.ones([1,1]))) \n",
        "            d_real_error.backward() \n",
        "\n",
        "            d_gen_input = get_generator_input_sampler(g_input_size).view(1,g_input_size)\n",
        "            d_fake_data = G(d_gen_input).detach()\n",
        "            d_fake_decision = D(d_fake_data)\n",
        "            d_fake_error = criterion(d_fake_decision, Variable(torch.zeros([1,1]))) \n",
        "            d_fake_error.backward()\n",
        "            d_optimizer.step()    \n",
        "\n",
        "            dre, dfe = extract(d_real_error)[0], extract(d_fake_error)[0]\n",
        "\n",
        "        for g_index in range(g_steps):\n",
        "            gen_input = get_generator_input_sampler(g_input_size).view(1,g_input_size)\n",
        "            g_fake_data = G(gen_input)\n",
        "            dg_fake_decision = D(g_fake_data)\n",
        "            g_error = criterion(dg_fake_decision, Variable(torch.ones([1,1])))\n",
        "            g_error.backward()\n",
        "            g_optimizer.step() \n",
        "            ge = extract(g_error)[0]\n",
        "\n",
        "        if epoch % print_interval == 0:\n",
        "            print(\"Epoch %s: D (%s real_err, %s fake_err) G (%s err); Real Dist (%s),  Fake Dist (%s) \" %\n",
        "                  (epoch, dre, dfe, ge, stats(extract(d_real_data)), stats(extract(d_fake_data))))\n",
        "\n",
        "    return G\n",
        "\n",
        "G = train(price,1)"
      ],
      "execution_count": 23,
      "outputs": [
        {
          "output_type": "stream",
          "text": [
            "/usr/local/lib/python3.6/dist-packages/ipykernel_launcher.py:43: UserWarning: Implicit dimension choice for softmax has been deprecated. Change the call to include dim=X as an argument.\n"
          ],
          "name": "stderr"
        },
        {
          "output_type": "stream",
          "text": [
            "Epoch 0: D (0.0 real_err, 27.63102149963379 fake_err) G (0.0 err); Real Dist ([0.06679727137088776, 0.0]),  Fake Dist ([0.15368497371673584, 0.0]) \n",
            "Epoch 50: D (0.0 real_err, 27.63102149963379 fake_err) G (0.0 err); Real Dist ([-0.04225323721766472, 0.0]),  Fake Dist ([0.218950092792511, 0.0]) \n",
            "Epoch 100: D (0.0 real_err, 27.63102149963379 fake_err) G (0.0 err); Real Dist ([0.026819461956620216, 0.0]),  Fake Dist ([0.10215651988983154, 0.0]) \n",
            "Epoch 150: D (0.0 real_err, 27.63102149963379 fake_err) G (0.0 err); Real Dist ([0.004524679854512215, 0.0]),  Fake Dist ([0.1867516040802002, 0.0]) \n",
            "Epoch 200: D (0.0 real_err, 27.63102149963379 fake_err) G (0.0 err); Real Dist ([-0.012258397415280342, 0.0]),  Fake Dist ([0.25401201844215393, 0.0]) \n",
            "Epoch 250: D (0.0 real_err, 27.63102149963379 fake_err) G (0.0 err); Real Dist ([0.015037230215966702, 0.0]),  Fake Dist ([0.024647502228617668, 0.0]) \n",
            "Epoch 300: D (0.0 real_err, 27.63102149963379 fake_err) G (0.0 err); Real Dist ([-0.00046080659376457334, 0.0]),  Fake Dist ([0.031762827187776566, 0.0]) \n",
            "Epoch 350: D (0.0 real_err, 27.63102149963379 fake_err) G (0.0 err); Real Dist ([0.016506893560290337, 0.0]),  Fake Dist ([0.14537665247917175, 0.0]) \n",
            "Epoch 400: D (0.0 real_err, 27.63102149963379 fake_err) G (0.0 err); Real Dist ([-0.004104012623429298, 0.0]),  Fake Dist ([0.20609785616397858, 0.0]) \n",
            "Epoch 450: D (0.0 real_err, 27.63102149963379 fake_err) G (0.0 err); Real Dist ([-0.006882976740598679, 0.0]),  Fake Dist ([0.14066626131534576, 0.0]) \n",
            "Epoch 500: D (0.0 real_err, 27.63102149963379 fake_err) G (0.0 err); Real Dist ([-0.010100886225700378, 0.0]),  Fake Dist ([-0.10933282226324081, 0.0]) \n",
            "Epoch 550: D (0.0 real_err, 27.63102149963379 fake_err) G (0.0 err); Real Dist ([0.020920738577842712, 0.0]),  Fake Dist ([0.03778970241546631, 0.0]) \n",
            "Epoch 600: D (0.0 real_err, 27.63102149963379 fake_err) G (0.0 err); Real Dist ([0.018045717850327492, 0.0]),  Fake Dist ([0.07934929430484772, 0.0]) \n",
            "Epoch 650: D (0.0 real_err, 27.63102149963379 fake_err) G (0.0 err); Real Dist ([-0.01157465111464262, 0.0]),  Fake Dist ([0.08177239447832108, 0.0]) \n",
            "Epoch 700: D (0.0 real_err, 27.63102149963379 fake_err) G (0.0 err); Real Dist ([0.002906958805397153, 0.0]),  Fake Dist ([0.08985136449337006, 0.0]) \n",
            "Epoch 750: D (0.0 real_err, 27.63102149963379 fake_err) G (0.0 err); Real Dist ([-0.018271949142217636, 0.0]),  Fake Dist ([0.10292092710733414, 0.0]) \n",
            "Epoch 800: D (0.0 real_err, 27.63102149963379 fake_err) G (0.0 err); Real Dist ([-0.02668803185224533, 0.0]),  Fake Dist ([-0.03910941258072853, 0.0]) \n",
            "Epoch 850: D (0.0 real_err, 27.63102149963379 fake_err) G (0.0 err); Real Dist ([-0.04095548763871193, 0.0]),  Fake Dist ([-0.035876933485269547, 0.0]) \n",
            "Epoch 900: D (0.0 real_err, 27.63102149963379 fake_err) G (0.0 err); Real Dist ([0.007026601117104292, 0.0]),  Fake Dist ([0.09529014676809311, 0.0]) \n",
            "Epoch 950: D (0.0 real_err, 27.63102149963379 fake_err) G (0.0 err); Real Dist ([0.048672594130039215, 0.0]),  Fake Dist ([0.056929077953100204, 0.0]) \n"
          ],
          "name": "stdout"
        }
      ]
    },
    {
      "cell_type": "code",
      "metadata": {
        "id": "FD98Mf0LmuLy",
        "colab_type": "code",
        "colab": {}
      },
      "source": [
        "latent = torch.randn(10000, 50).cuda()\n",
        "dat = G(latent)\n",
        "dat = dat.view(10000,-1)"
      ],
      "execution_count": 0,
      "outputs": []
    },
    {
      "cell_type": "code",
      "metadata": {
        "id": "cg_ocgQGnREK",
        "colab_type": "code",
        "colab": {}
      },
      "source": [
        "rets = []\n",
        "for i in range(10000):\n",
        "  rets.append(dat[i][-1].item())"
      ],
      "execution_count": 0,
      "outputs": []
    },
    {
      "cell_type": "code",
      "metadata": {
        "id": "ZKq3QgPUnicG",
        "colab_type": "code",
        "colab": {
          "base_uri": "https://localhost:8080/",
          "height": 721
        },
        "outputId": "3002f643-1694-4c86-b9e0-6c4b8da88389"
      },
      "source": [
        "gen_ret = pd.Series(rets)\n",
        "fig = plt.figure(figsize = (8,12))\n",
        "ax = fig.gca()\n",
        "ax.set_ylim(0,200)\n",
        "ax.set_xlim(-0.5,0.5)\n",
        "gen_ret.hist(bins=1000,ax=ax)"
      ],
      "execution_count": 27,
      "outputs": [
        {
          "output_type": "execute_result",
          "data": {
            "text/plain": [
              "<matplotlib.axes._subplots.AxesSubplot at 0x7ff7ae5cc7f0>"
            ]
          },
          "metadata": {
            "tags": []
          },
          "execution_count": 27
        },
        {
          "output_type": "display_data",
          "data": {
            "image/png": "[encoded data removed]",
            "text/plain": [
              "<Figure size 576x864 with 1 Axes>"
            ]
          },
          "metadata": {
            "tags": []
          }
        }
      ]
    },
    {
      "cell_type": "code",
      "metadata": {
        "id": "GDbUHO8tEKyE",
        "colab_type": "code",
        "colab": {}
      },
      "source": [
        "gen_ret.quantile(0.01)"
      ],
      "execution_count": 0,
      "outputs": []
    },
    {
      "cell_type": "markdown",
      "metadata": {
        "id": "LimA3jMp4ZkR",
        "colab_type": "text"
      },
      "source": [
        ""
      ]
    }
  ]
}