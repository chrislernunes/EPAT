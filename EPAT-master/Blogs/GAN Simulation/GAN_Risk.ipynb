{
  "nbformat": 4,
  "nbformat_minor": 0,
  "metadata": {
    "colab": {
      "name": "GAN_Risk.ipynb",
      "provenance": [],
      "collapsed_sections": []
    },
    "kernelspec": {
      "name": "python3",
      "display_name": "Python 3"
    },
    "accelerator": "GPU"
  },
  "cells": [
    {
      "cell_type": "code",
      "metadata": {
        "id": "2XGJCXu_c1vm",
        "colab_type": "code",
        "outputId": "962380ca-e2dd-4297-e2e3-6d76abdacc6c",
        "colab": {
          "base_uri": "https://localhost:8080/",
          "height": 221
        }
      },
      "source": [
        "!pip install yfinance\n",
        "import yfinance as yf\n",
        "import pandas as pd\n",
        "import numpy as np\n",
        "import matplotlib.pyplot as plt\n",
        "%matplotlib inline\n",
        "import torch\n",
        "import torch.nn as nn\n",
        "import torch.optim as optim\n",
        "from torch.autograd import Variable\n",
        "import torch.nn.init as init"
      ],
      "execution_count": 0,
      "outputs": [
        {
          "output_type": "stream",
          "text": [
            "Requirement already satisfied: yfinance in /usr/local/lib/python3.6/dist-packages (0.1.50)\n",
            "Requirement already satisfied: requests>=2.20 in /usr/local/lib/python3.6/dist-packages (from yfinance) (2.21.0)\n",
            "Requirement already satisfied: multitasking>=0.0.7 in /usr/local/lib/python3.6/dist-packages (from yfinance) (0.0.9)\n",
            "Requirement already satisfied: numpy>=1.15 in /usr/local/lib/python3.6/dist-packages (from yfinance) (1.17.4)\n",
            "Requirement already satisfied: pandas>=0.24 in /usr/local/lib/python3.6/dist-packages (from yfinance) (0.25.3)\n",
            "Requirement already satisfied: chardet<3.1.0,>=3.0.2 in /usr/local/lib/python3.6/dist-packages (from requests>=2.20->yfinance) (3.0.4)\n",
            "Requirement already satisfied: idna<2.9,>=2.5 in /usr/local/lib/python3.6/dist-packages (from requests>=2.20->yfinance) (2.8)\n",
            "Requirement already satisfied: urllib3<1.25,>=1.21.1 in /usr/local/lib/python3.6/dist-packages (from requests>=2.20->yfinance) (1.24.3)\n",
            "Requirement already satisfied: certifi>=2017.4.17 in /usr/local/lib/python3.6/dist-packages (from requests>=2.20->yfinance) (2019.9.11)\n",
            "Requirement already satisfied: python-dateutil>=2.6.1 in /usr/local/lib/python3.6/dist-packages (from pandas>=0.24->yfinance) (2.6.1)\n",
            "Requirement already satisfied: pytz>=2017.2 in /usr/local/lib/python3.6/dist-packages (from pandas>=0.24->yfinance) (2018.9)\n",
            "Requirement already satisfied: six>=1.5 in /usr/local/lib/python3.6/dist-packages (from python-dateutil>=2.6.1->pandas>=0.24->yfinance) (1.12.0)\n"
          ],
          "name": "stdout"
        }
      ]
    },
    {
      "cell_type": "code",
      "metadata": {
        "id": "JTZVkvF9Z2kM",
        "colab_type": "code",
        "outputId": "46ebde20-e1e3-44bf-e49e-5bb4feab1d55",
        "colab": {
          "base_uri": "https://localhost:8080/",
          "height": 34
        }
      },
      "source": [
        "price = yf.download(\"AAPL\")"
      ],
      "execution_count": 0,
      "outputs": [
        {
          "output_type": "stream",
          "text": [
            "\r[*********************100%***********************]  1 of 1 completed\n"
          ],
          "name": "stdout"
        }
      ]
    },
    {
      "cell_type": "code",
      "metadata": {
        "id": "IqkAaINJvw0i",
        "colab_type": "code",
        "outputId": "963a793a-0ad4-4dc6-cc04-6262ebc4a14b",
        "colab": {
          "base_uri": "https://localhost:8080/",
          "height": 286
        }
      },
      "source": [
        "price['Adj Close'].plot()"
      ],
      "execution_count": 0,
      "outputs": [
        {
          "output_type": "execute_result",
          "data": {
            "text/plain": [
              "<matplotlib.axes._subplots.AxesSubplot at 0x7feb4787e0f0>"
            ]
          },
          "metadata": {
            "tags": []
          },
          "execution_count": 11
        },
        {
          "output_type": "display_data",
          "data": {
            "image/png": "[encoded data removed]",
            "text/plain": [
              "<Figure size 432x288 with 1 Axes>"
            ]
          },
          "metadata": {
            "tags": []
          }
        }
      ]
    },
    {
      "cell_type": "code",
      "metadata": {
        "id": "J3TaZhsnVp6z",
        "colab_type": "code",
        "colab": {}
      },
      "source": [
        "class MTimeSLoader():\n",
        "    def __init__(self, price,batch_size,seq_len):\n",
        "        self.price = price\n",
        "        self.batch_size = batch_size\n",
        "        self.seq_len = seq_len\n",
        "\n",
        "    def RSICalc(self,price):\n",
        "        delta = price['Adj Close'].diff()\n",
        "        dUp, dDown = delta.copy(), delta.copy()\n",
        "        dUp[dUp < 0] = 0\n",
        "        dDown[dDown > 0] = 0\n",
        "        RolUp = dUp.rolling(window=14).mean()\n",
        "        RolDown = dDown.abs().rolling(window=14).mean()\n",
        "        return np.where(RolDown != 0,RolUp / RolDown,1)\n",
        "\n",
        "    def getTI(self,price):\n",
        "        adjustment = price['Adj Close']/price['Close']\n",
        "\n",
        "        # VOLITILIY\n",
        "        # Bollinger Bands\n",
        "        std_20 = price['Adj Close'].rolling(window=20).std() \n",
        "        ub = price['Adj Close'] - 2 * std_20\n",
        "        lb = price['Adj Close'] + 2 * std_20\n",
        "\n",
        "        # TREND\n",
        "        # Moving Averages\n",
        "        ma_10 = price['Adj Close'].rolling(window=10).mean()\n",
        "        ma_20 = price['Adj Close'].rolling(window=20).mean()\n",
        "\n",
        "        # Moving Averae Convergence Divergence\n",
        "        ema_26 = pd.Series.ewm(price['Adj Close'],span=26).mean()\n",
        "        ema_12 = pd.Series.ewm(price['Adj Close'],span=12).mean()\n",
        "        macd = ema_26-ema_12\n",
        "\n",
        "        # MOMENTUM \n",
        "        # RSI \n",
        "        rsi = self.RSICalc(price)\n",
        "        return pd.DataFrame({'ma_10':ma_10,'ma_20':ma_20,'macd':macd,'bol_lb':lb,'bol_up':ub, 'rsi':rsi})\n",
        "\n",
        "    def getFI(self,price):\n",
        "        return pd.DataFrame({})\n",
        "\n",
        "    def getFFTComponents(self,price):\n",
        "        close_fft = np.fft.fft(np.asarray(price['Adj Close'].tolist()))\n",
        "        fft_df = pd.DataFrame({'fft':close_fft})\n",
        "        real = fft_df['fft'].apply(lambda x: np.abs(x))\n",
        "        angle = fft_df['fft'].apply(lambda x: np.angle(x))\n",
        "        df =  pd.DataFrame(data = {'real':real,'angle':angle})\n",
        "        df.index = price.index\n",
        "        return df\n",
        "\n",
        "    def getFeatures(self,price):\n",
        "        return pd.concat([price['Adj Close'].pct_change(),]) # self.getTI(price), self.getFI(price), self.getFFTComponents(price)],axis=1)\n",
        "\n",
        "    def __len__(self):\n",
        "        return len(self.prices.shape[0])\n",
        "\n",
        "    def get(self):\n",
        "        data = self.getFeatures(self.price)[30:]\n",
        "        filt = data.to_numpy()[self.seq_len:]\n",
        "        items = filt.shape[0]\n",
        "        choice = np.random.choice(items, self.batch_size, replace=False)\n",
        "        return np.vstack([np.vstack([filt[r] for r in range(i-self.seq_len,i)]).reshape(self.seq_len,-1) for i in choice]).reshape(self.batch_size,self.seq_len,-1)\n"
      ],
      "execution_count": 0,
      "outputs": []
    },
    {
      "cell_type": "code",
      "metadata": {
        "id": "Ny6VOomcyrBQ",
        "colab_type": "code",
        "outputId": "bdaebb0e-3399-408a-84b1-0d393bd47f94",
        "colab": {
          "base_uri": "https://localhost:8080/",
          "height": 34
        }
      },
      "source": [
        "batch_size = 32\n",
        "window_size = 12\n",
        "MTimeSLoader(price,batch_size,window_size).get().shape"
      ],
      "execution_count": 0,
      "outputs": [
        {
          "output_type": "execute_result",
          "data": {
            "text/plain": [
              "(32, 12, 1)"
            ]
          },
          "metadata": {
            "tags": []
          },
          "execution_count": 90
        }
      ]
    },
    {
      "cell_type": "code",
      "metadata": {
        "id": "Cz3K_ly9cjlI",
        "colab_type": "code",
        "colab": {}
      },
      "source": [
        "def weight_init(m):\n",
        "    if isinstance(m, nn.Conv1d):\n",
        "        init.normal_(m.weight.data)\n",
        "        if m.bias is not None:\n",
        "            init.normal_(m.bias.data)\n",
        "    elif isinstance(m, nn.Conv2d):\n",
        "        init.xavier_normal_(m.weight.data)\n",
        "        if m.bias is not None:\n",
        "            init.normal_(m.bias.data)\n",
        "    elif isinstance(m, nn.Conv3d):\n",
        "        init.xavier_normal_(m.weight.data)\n",
        "        if m.bias is not None:\n",
        "            init.normal_(m.bias.data)\n",
        "    elif isinstance(m, nn.ConvTranspose1d):\n",
        "        init.normal_(m.weight.data)\n",
        "        if m.bias is not None:\n",
        "            init.normal_(m.bias.data)\n",
        "    elif isinstance(m, nn.ConvTranspose2d):\n",
        "        init.xavier_normal_(m.weight.data)\n",
        "        if m.bias is not None:\n",
        "            init.normal_(m.bias.data)\n",
        "    elif isinstance(m, nn.ConvTranspose3d):\n",
        "        init.xavier_normal_(m.weight.data)\n",
        "        if m.bias is not None:\n",
        "            init.normal_(m.bias.data)\n",
        "    elif isinstance(m, nn.BatchNorm1d):\n",
        "        init.normal_(m.weight.data, mean=1, std=0.02)\n",
        "        init.constant_(m.bias.data, 0)\n",
        "    elif isinstance(m, nn.BatchNorm2d):\n",
        "        init.normal_(m.weight.data, mean=1, std=0.02)\n",
        "        init.constant_(m.bias.data, 0)\n",
        "    elif isinstance(m, nn.BatchNorm3d):\n",
        "        init.normal_(m.weight.data, mean=1, std=0.02)\n",
        "        init.constant_(m.bias.data, 0)\n",
        "    elif isinstance(m, nn.Linear):\n",
        "        init.xavier_normal_(m.weight.data)\n",
        "        init.normal_(m.bias.data)\n",
        "    elif isinstance(m, nn.LSTM):\n",
        "        for param in m.parameters():\n",
        "            if len(param.shape) >= 2:\n",
        "                init.orthogonal_(param.data)\n",
        "            else:\n",
        "                init.normal_(param.data)\n",
        "    elif isinstance(m, nn.LSTMCell):\n",
        "        for param in m.parameters():\n",
        "            if len(param.shape) >= 2:\n",
        "                init.orthogonal_(param.data)\n",
        "            else:\n",
        "                init.normal_(param.data)\n",
        "    elif isinstance(m, nn.GRU):\n",
        "        for param in m.parameters():\n",
        "            if len(param.shape) >= 2:\n",
        "                init.orthogonal_(param.data)\n",
        "            else:\n",
        "                init.normal_(param.data)\n",
        "    elif isinstance(m, nn.GRUCell):\n",
        "        for param in m.parameters():\n",
        "            if len(param.shape) >= 2:\n",
        "                init.orthogonal_(param.data)\n",
        "            else:\n",
        "                init.normal_(param.data)"
      ],
      "execution_count": 0,
      "outputs": []
    },
    {
      "cell_type": "code",
      "metadata": {
        "id": "pTOqFXy3OUCi",
        "colab_type": "code",
        "colab": {}
      },
      "source": [
        "class Generator(nn.Module):\n",
        "    def __init__(self, inp , op,  hi = 512):\n",
        "        super().__init__()\n",
        "        self.inp = inp\n",
        "        self.op = op\n",
        "        self.lstm = nn.LSTM(inp, hi, 1, batch_first=True)\n",
        "        self.linear = nn.Sequential(nn.Linear(hi, op) , nn.Tanh())\n",
        "        self.apply(weight_init)\n",
        "\n",
        "    def forward(self, inpu , hi = 512):\n",
        "        h_0 = torch.zeros(1, inpu.size(0), hi)\n",
        "        c_0 = torch.zeros(1, inpu.size(0), hi)\n",
        "        outputs, (hn, cn) = self.lstm(inpu, (h_0, c_0))\n",
        "        op = hn[-1]\n",
        "        outputs = self.linear(op)\n",
        "        return outputs\n",
        "\n",
        "\n",
        "class Discriminator(nn.Module):\n",
        "    def __init__(self, inp , op,  hi = 512):\n",
        "        super().__init__()\n",
        "        self.inp = inp\n",
        "        self.op = op\n",
        "        self.lstm = nn.LSTM(inp, hi, 1, batch_first=True)\n",
        "        self.linear = nn.Sequential(nn.Linear(hi, op) , nn.Sigmoid())\n",
        "        self.apply(weight_init)\n",
        "\n",
        "    def forward(self, inpu , hi = 512):\n",
        "        h_0 = torch.zeros(1, inpu.size(0), hi)\n",
        "        c_0 = torch.zeros(1, inpu.size(0), hi)\n",
        "        outputs, (hn, cn) = self.lstm(inpu, (h_0, c_0))\n",
        "        op = hn[-1]\n",
        "        outputs = self.linear(op)\n",
        "        return outputs"
      ],
      "execution_count": 0,
      "outputs": []
    },
    {
      "cell_type": "code",
      "metadata": {
        "id": "UBoNG0xbnvuR",
        "colab_type": "code",
        "colab": {}
      },
      "source": [
        "def fit_with(lr,eph,noise_size,batch,window):\n",
        "\n",
        "    nz = int(noise_size)\n",
        "    num_epochs = int(eph)\n",
        "    lr = 0.0002\n",
        "    beta1 = 0.5\n",
        "\n",
        "    window_size = int(window)\n",
        "    batch_size = int(batch)\n",
        "    real_label = 1 \n",
        "    fake_label = 0\n",
        "    feature_size = 14\n",
        "\n",
        "    criterion = nn.BCELoss()\n",
        "    netD = Discriminator(feature_size,1)\n",
        "    netG = Generator(nz,window_size*feature_size)\n",
        "\n",
        "    optimizerD = optim.Adam(netD.parameters(), lr=lr, betas=(beta1, 0.999))\n",
        "    optimizerG = optim.Adam(netG.parameters(), lr=lr, betas=(beta1, 0.999))\n",
        "\n",
        "    img_list = []\n",
        "    G_losses = []\n",
        "    D_losses = []\n",
        "    iters = 0\n",
        "    sum_err = 0\n",
        "\n",
        "    torch.autograd.set_detect_anomaly(True)\n",
        "\n",
        "    for epoch in range(num_epochs):\n",
        "        sum_err = 0 \n",
        "        for i in range(10):\n",
        "          data = MTimeSLoader(price,batch_size,window_size).get()\n",
        "          real = torch.Tensor(data)\n",
        "          # maximize log(D(x)) + log(1 - D(G(z)))\n",
        "          netD.zero_grad()\n",
        "          b_size = real.size(0)\n",
        "          label = torch.full((b_size,), real_label)\n",
        "          if not (real == real).all():\n",
        "            print(real)\n",
        "          output = netD(real)\n",
        "          errD_real = criterion(output.view(-1), label)\n",
        "          errD_real.backward()\n",
        "          D_x = output.mean().item()\n",
        "\n",
        "          noise = torch.randn(b_size, window_size, nz)\n",
        "          fake = netG(noise)\n",
        "          label.fill_(fake_label)\n",
        "          fake = fake.view(b_size,window_size,-1)\n",
        "          output = netD(fake.detach())\n",
        "          errD_fake = criterion(output.view(-1), label)\n",
        "          errD_fake.backward()\n",
        "          D_G_z1 = output.mean().item()\n",
        "          errD = errD_real + errD_fake\n",
        "          optimizerD.step()\n",
        "\n",
        "          # (2) maximize log(D(G(z)))\n",
        "          netG.zero_grad()\n",
        "          label.fill_(real_label)  \n",
        "          output = netD(fake).view(-1)\n",
        "          errG = criterion(output, label)\n",
        "          errG.backward()\n",
        "          D_G_z2 = output.mean().item()\n",
        "          optimizerG.step()\n",
        "          sum_err = sum_err + errD\n",
        "\n",
        "          if i % 50 == 0:\n",
        "              print(f'epoch : {epoch} , iter : {i} , dis err: {errD.item()}  , gen err: {errG.item()} , {D_x}, {D_G_z1}, {D_G_z2}')\n",
        "\n",
        "          G_losses.append(errG.item())\n",
        "          D_losses.append(errD.item())\n",
        "    \n",
        "  \n",
        "    print(f\"Toral error {sum_err}\")\n",
        "    # The small change: we're only going to return the accuracy\n",
        "    return sum_err"
      ],
      "execution_count": 0,
      "outputs": []
    },
    {
      "cell_type": "code",
      "metadata": {
        "id": "xL8vhpeUrtuX",
        "colab_type": "code",
        "outputId": "6c53d4d7-00ab-4bd1-8ad5-469b73617397",
        "colab": {
          "base_uri": "https://localhost:8080/",
          "height": 258
        }
      },
      "source": [
        "!pip install bayesian-optimization"
      ],
      "execution_count": 0,
      "outputs": [
        {
          "output_type": "stream",
          "text": [
            "Collecting bayesian-optimization\n",
            "  Downloading https://files.pythonhosted.org/packages/72/0c/173ac467d0a53e33e41b521e4ceba74a8ac7c7873d7b857a8fbdca88302d/bayesian-optimization-1.0.1.tar.gz\n",
            "Requirement already satisfied: numpy>=1.9.0 in /usr/local/lib/python3.6/dist-packages (from bayesian-optimization) (1.17.4)\n",
            "Requirement already satisfied: scipy>=0.14.0 in /usr/local/lib/python3.6/dist-packages (from bayesian-optimization) (1.3.2)\n",
            "Requirement already satisfied: scikit-learn>=0.18.0 in /usr/local/lib/python3.6/dist-packages (from bayesian-optimization) (0.21.3)\n",
            "Requirement already satisfied: joblib>=0.11 in /usr/local/lib/python3.6/dist-packages (from scikit-learn>=0.18.0->bayesian-optimization) (0.14.0)\n",
            "Building wheels for collected packages: bayesian-optimization\n",
            "  Building wheel for bayesian-optimization (setup.py) ... \u001b[?25l\u001b[?25hdone\n",
            "  Created wheel for bayesian-optimization: filename=bayesian_optimization-1.0.1-cp36-none-any.whl size=10032 sha256=8b1008a10494a8590b478eacdc609475d3856056604d3f7200f3afe62d7820cc\n",
            "  Stored in directory: /root/.cache/pip/wheels/1d/0d/3b/6b9d4477a34b3905f246ff4e7acf6aafd4cc9b77d473629b77\n",
            "Successfully built bayesian-optimization\n",
            "Installing collected packages: bayesian-optimization\n",
            "Successfully installed bayesian-optimization-1.0.1\n"
          ],
          "name": "stdout"
        }
      ]
    },
    {
      "cell_type": "code",
      "metadata": {
        "id": "g-mS9Jywa4fQ",
        "colab_type": "code",
        "outputId": "1a69fcd9-ba4a-4f21-c0f1-bc78d6e3b96e",
        "colab": {
          "base_uri": "https://localhost:8080/",
          "height": 1000
        }
      },
      "source": [
        "from bayes_opt import BayesianOptimization\n",
        "\n",
        "# Bounded region of parameter space\n",
        "pbounds = {'lr': (1e-4, 1e-2),\n",
        "           'eph':(10,20),\n",
        "           'noise_size': (100,200),\n",
        "           'batch':(32,64),\n",
        "           'window':(10,20)\n",
        "           }\n",
        "\n",
        "optimizer = BayesianOptimization(\n",
        "    f=fit_with,\n",
        "    pbounds=pbounds,\n",
        "    verbose=2,\n",
        "    random_state=1,\n",
        ")\n",
        "\n",
        "optimizer.maximize(init_points=2, n_iter=2,)\n",
        "\n",
        "for i, res in enumerate(optimizer.res):\n",
        "    print(\"Iteration {}: \\n\\t{}\".format(i, res))\n",
        "\n",
        "print(optimizer.min)"
      ],
      "execution_count": 0,
      "outputs": [
        {
          "output_type": "stream",
          "text": [
            "|   iter    |  target   |   batch   |    eph    |    lr     | noise_... |  window   |\n",
            "-------------------------------------------------------------------------------------\n",
            "epoch : 0 , iter : 0 , dis err: 1.658155083656311  , gen err: 0.3573344349861145 , 0.7989304661750793, 0.7608800530433655, 0.6995387077331543\n",
            "epoch : 1 , iter : 0 , dis err: 0.3818158805370331  , gen err: 1.92586088180542 , 0.8308852314949036, 0.17688436806201935, 0.14575038850307465\n",
            "epoch : 2 , iter : 0 , dis err: 0.19441628456115723  , gen err: 3.46313738822937 , 0.855465292930603, 0.03623412176966667, 0.03133133053779602\n",
            "epoch : 3 , iter : 0 , dis err: 0.15336377918720245  , gen err: 4.577373504638672 , 0.8682558536529541, 0.011395626701414585, 0.01028186921030283\n",
            "epoch : 4 , iter : 0 , dis err: 0.10977791994810104  , gen err: 5.378658294677734 , 0.9010883569717407, 0.005010060500353575, 0.004614008590579033\n",
            "epoch : 5 , iter : 0 , dis err: 0.0854015052318573  , gen err: 6.066752910614014 , 0.9208036065101624, 0.00248443940654397, 0.0023186898324638605\n",
            "epoch : 6 , iter : 0 , dis err: 0.06483795493841171  , gen err: 6.566445350646973 , 0.9389417767524719, 0.0014778688782826066, 0.0014067896408960223\n",
            "epoch : 7 , iter : 0 , dis err: 0.06186094880104065  , gen err: 6.948759078979492 , 0.9412454962730408, 0.0009983957279473543, 0.0009598249453119934\n",
            "epoch : 8 , iter : 0 , dis err: 0.05086561292409897  , gen err: 7.273378372192383 , 0.9514697790145874, 0.0007179160020314157, 0.0006937644211575389\n",
            "epoch : 9 , iter : 0 , dis err: 0.04696190357208252  , gen err: 7.559319496154785 , 0.9549456238746643, 0.0005364778335206211, 0.0005212292890064418\n",
            "epoch : 10 , iter : 0 , dis err: 0.036584723740816116  , gen err: 7.802791118621826 , 0.9646562337875366, 0.00041843822691589594, 0.0004085921682417393\n",
            "epoch : 11 , iter : 0 , dis err: 0.03651103377342224  , gen err: 8.009561538696289 , 0.9646056890487671, 0.0003390689962543547, 0.00033227010862901807\n",
            "epoch : 12 , iter : 0 , dis err: 0.028267236426472664  , gen err: 8.192427635192871 , 0.9724396467208862, 0.00028177277999930084, 0.00027674128068611026\n",
            "epoch : 13 , iter : 0 , dis err: 0.02463429979979992  , gen err: 8.360445976257324 , 0.9759414792060852, 0.00023774091096129268, 0.00023393997980747372\n",
            "epoch : 14 , iter : 0 , dis err: 0.023311367258429527  , gen err: 8.511825561523438 , 0.97719407081604, 0.00020399132336024195, 0.00020107625459786505\n",
            "Toral error 0.22355800867080688\n",
            "| \u001b[0m 1       \u001b[0m | \u001b[0m 0.2236  \u001b[0m | \u001b[0m 45.34   \u001b[0m | \u001b[0m 15.8    \u001b[0m | \u001b[0m 0.000101\u001b[0m | \u001b[0m 130.2   \u001b[0m | \u001b[0m 11.47   \u001b[0m |\n",
            "epoch : 0 , iter : 0 , dis err: 1.4881426095962524  , gen err: 1.3586376905441284 , 0.34548279643058777, 0.3264998495578766, 0.25701096653938293\n",
            "epoch : 1 , iter : 0 , dis err: 0.9423091411590576  , gen err: 3.272278308868408 , 0.4127545952796936, 0.04435010626912117, 0.03791993483901024\n",
            "epoch : 2 , iter : 0 , dis err: 0.6266233921051025  , gen err: 4.590237617492676 , 0.5473394393920898, 0.011781358160078526, 0.010150442831218243\n",
            "epoch : 3 , iter : 0 , dis err: 0.4657266139984131  , gen err: 5.83840799331665 , 0.6302570104598999, 0.0032713026739656925, 0.0029134752694517374\n",
            "epoch : 4 , iter : 0 , dis err: 0.37398016452789307  , gen err: 6.7162370681762695 , 0.6901543736457825, 0.0013145280536264181, 0.001211086055263877\n",
            "epoch : 5 , iter : 0 , dis err: 0.28052347898483276  , gen err: 7.386404037475586 , 0.7579705715179443, 0.0006586662493646145, 0.0006196204922161996\n",
            "epoch : 6 , iter : 0 , dis err: 0.25299718976020813  , gen err: 7.840250492095947 , 0.7780360579490662, 0.0004116796189919114, 0.00039357037167064846\n",
            "Toral error 2.419217824935913\n",
            "| \u001b[95m 2       \u001b[0m | \u001b[95m 2.419   \u001b[0m | \u001b[95m 34.95   \u001b[0m | \u001b[95m 7.794   \u001b[0m | \u001b[95m 0.003521\u001b[0m | \u001b[95m 139.7   \u001b[0m | \u001b[95m 15.39   \u001b[0m |\n",
            "epoch : 0 , iter : 0 , dis err: 2.4926891326904297  , gen err: 0.5445119738578796 , 0.24593016505241394, 0.6527419090270996, 0.5801249146461487\n",
            "epoch : 1 , iter : 0 , dis err: 1.222777247428894  , gen err: 2.222562551498413 , 0.34193024039268494, 0.13108929991722107, 0.10833126306533813\n",
            "epoch : 2 , iter : 0 , dis err: 0.9131417870521545  , gen err: 3.954130172729492 , 0.41401374340057373, 0.022646646946668625, 0.019175361841917038\n",
            "epoch : 3 , iter : 0 , dis err: 0.7661576867103577  , gen err: 5.064022541046143 , 0.47335007786750793, 0.007048691622912884, 0.0063200839795172215\n",
            "epoch : 4 , iter : 0 , dis err: 0.5894482135772705  , gen err: 5.969799995422363 , 0.5565967559814453, 0.0027817690279334784, 0.002554752165451646\n",
            "epoch : 5 , iter : 0 , dis err: 0.4894160032272339  , gen err: 6.645893096923828 , 0.614469051361084, 0.0013781329616904259, 0.0012993483105674386\n",
            "Toral error 4.461885452270508\n",
            "| \u001b[95m 3       \u001b[0m | \u001b[95m 4.462   \u001b[0m | \u001b[95m 34.3    \u001b[0m | \u001b[95m 6.688   \u001b[0m | \u001b[95m 0.009411\u001b[0m | \u001b[95m 139.7   \u001b[0m | \u001b[95m 15.0    \u001b[0m |\n",
            "epoch : 0 , iter : 0 , dis err: 1.9668347835540771  , gen err: 0.8043732643127441 , 0.29346418380737305, 0.5176434516906738, 0.44736841320991516\n",
            "epoch : 1 , iter : 0 , dis err: 0.9626635313034058  , gen err: 2.4871621131896973 , 0.42777079343795776, 0.09945100545883179, 0.08314567059278488\n",
            "epoch : 2 , iter : 0 , dis err: 0.7844321131706238  , gen err: 4.002167701721191 , 0.46736007928848267, 0.021236924454569817, 0.01827598735690117\n",
            "epoch : 3 , iter : 0 , dis err: 0.6351523995399475  , gen err: 5.111459732055664 , 0.5337583422660828, 0.006693430710583925, 0.006027278956025839\n",
            "epoch : 4 , iter : 0 , dis err: 0.521500289440155  , gen err: 5.948314666748047 , 0.5956484079360962, 0.0028241309337317944, 0.0026102352421730757\n",
            "epoch : 5 , iter : 0 , dis err: 0.40282076597213745  , gen err: 6.672896385192871 , 0.6714310050010681, 0.0013450237456709146, 0.0012647315161302686\n",
            "epoch : 6 , iter : 0 , dis err: 0.3186136782169342  , gen err: 7.143747806549072 , 0.7278659343719482, 0.0008255576831288636, 0.0007897864561527967\n",
            "Toral error 2.913457155227661\n",
            "| \u001b[0m 4       \u001b[0m | \u001b[0m 2.913   \u001b[0m | \u001b[0m 34.07   \u001b[0m | \u001b[0m 7.592   \u001b[0m | \u001b[0m 0.003464\u001b[0m | \u001b[0m 140.0   \u001b[0m | \u001b[0m 14.8    \u001b[0m |\n",
            "=====================================================================================\n",
            "Iteration 0: \n",
            "\t{'target': tensor(0.2236, grad_fn=<AddBackward0>), 'params': {'batch': 45.34470415048237, 'eph': 15.804867401632372, 'lr': 0.00010113231069171439, 'noise_size': 130.233257263184, 'window': 11.46755890817113}}\n",
            "Iteration 1: \n",
            "\t{'target': tensor(2.4192, grad_fn=<AddBackward0>), 'params': {'batch': 34.95483503260153, 'eph': 7.793903170665064, 'lr': 0.003521051197726173, 'noise_size': 139.67674742306698, 'window': 15.388167340033569}}\n",
            "Iteration 2: \n",
            "\t{'target': tensor(4.4619, grad_fn=<AddBackward0>), 'params': {'batch': 34.295783499872115, 'eph': 6.6883591661745605, 'lr': 0.009410879066055608, 'noise_size': 139.6677666673319, 'window': 15.001874152722582}}\n",
            "Iteration 3: \n",
            "\t{'target': tensor(2.9135, grad_fn=<AddBackward0>), 'params': {'batch': 34.06761657242953, 'eph': 7.5922558611769, 'lr': 0.003464265868168565, 'noise_size': 140.01654392566957, 'window': 14.797178421059982}}\n"
          ],
          "name": "stdout"
        },
        {
          "output_type": "error",
          "ename": "AttributeError",
          "evalue": "ignored",
          "traceback": [
            "\u001b[0;31m---------------------------------------------------------------------------\u001b[0m",
            "\u001b[0;31mAttributeError\u001b[0m                            Traceback (most recent call last)",
            "\u001b[0;32m<ipython-input-29-4695264edbf9>\u001b[0m in \u001b[0;36m<module>\u001b[0;34m()\u001b[0m\n\u001b[1;32m     21\u001b[0m     \u001b[0mprint\u001b[0m\u001b[0;34m(\u001b[0m\u001b[0;34m\"Iteration {}: \\n\\t{}\"\u001b[0m\u001b[0;34m.\u001b[0m\u001b[0mformat\u001b[0m\u001b[0;34m(\u001b[0m\u001b[0mi\u001b[0m\u001b[0;34m,\u001b[0m \u001b[0mres\u001b[0m\u001b[0;34m)\u001b[0m\u001b[0;34m)\u001b[0m\u001b[0;34m\u001b[0m\u001b[0;34m\u001b[0m\u001b[0m\n\u001b[1;32m     22\u001b[0m \u001b[0;34m\u001b[0m\u001b[0m\n\u001b[0;32m---> 23\u001b[0;31m \u001b[0mprint\u001b[0m\u001b[0;34m(\u001b[0m\u001b[0moptimizer\u001b[0m\u001b[0;34m.\u001b[0m\u001b[0mmin\u001b[0m\u001b[0;34m)\u001b[0m\u001b[0;34m\u001b[0m\u001b[0;34m\u001b[0m\u001b[0m\n\u001b[0m",
            "\u001b[0;31mAttributeError\u001b[0m: 'BayesianOptimization' object has no attribute 'min'"
          ]
        }
      ]
    },
    {
      "cell_type": "code",
      "metadata": {
        "id": "Cyg2bNpaipS6",
        "colab_type": "code",
        "colab": {}
      },
      "source": [
        "#Pass the learnt bayesian parameters into this\n",
        "\n",
        "def train(lr,eph,noise_size,batch,window):\n",
        "\n",
        "    nz = int(noise_size)\n",
        "    num_epochs = int(eph)\n",
        "    lr = 0.0002\n",
        "    beta1 = 0.5\n",
        "\n",
        "    window_size = int(window)\n",
        "    batch_size = int(batch)\n",
        "    real_label = 1 \n",
        "    fake_label = 0\n",
        "    feature_size = 1\n",
        "\n",
        "    criterion = nn.BCELoss()\n",
        "    netD = Discriminator(feature_size,1)\n",
        "    netG = Generator(nz,window_size*feature_size)\n",
        "\n",
        "    optimizerD = optim.Adam(netD.parameters(), lr=lr, betas=(beta1, 0.999))\n",
        "    optimizerG = optim.Adam(netG.parameters(), lr=lr, betas=(beta1, 0.999))\n",
        "\n",
        "    img_list = []\n",
        "    G_losses = []\n",
        "    D_losses = []\n",
        "    iters = 0\n",
        "    sum_err = 0\n",
        "\n",
        "    torch.autograd.set_detect_anomaly(True)\n",
        "\n",
        "    for epoch in range(num_epochs):\n",
        "        sum_err = 0 \n",
        "        for i in range(10):\n",
        "          data = MTimeSLoader(price,batch_size,window_size).get()\n",
        "          real = torch.Tensor(data)\n",
        "          # maximize log(D(x)) + log(1 - D(G(z)))\n",
        "          netD.zero_grad()\n",
        "          b_size = real.size(0)\n",
        "          label = torch.full((b_size,), real_label)\n",
        "          if not (real == real).all():\n",
        "            print(real)\n",
        "          output = netD(real)\n",
        "          errD_real = criterion(output.view(-1), label)\n",
        "          errD_real.backward()\n",
        "          D_x = output.mean().item()\n",
        "\n",
        "          noise = torch.randn(b_size, window_size, nz)\n",
        "          fake = netG(noise)\n",
        "          label.fill_(fake_label)\n",
        "          fake = fake.view(b_size,window_size,-1)\n",
        "          output = netD(fake.detach())\n",
        "          errD_fake = criterion(output.view(-1), label)\n",
        "          errD_fake.backward()\n",
        "          D_G_z1 = output.mean().item()\n",
        "          errD = errD_real + errD_fake\n",
        "          optimizerD.step()\n",
        "\n",
        "          # (2) maximize log(D(G(z)))\n",
        "          netG.zero_grad()\n",
        "          label.fill_(real_label)  \n",
        "          output = netD(fake).view(-1)\n",
        "          errG = criterion(output, label)\n",
        "          errG.backward()\n",
        "          D_G_z2 = output.mean().item()\n",
        "          optimizerG.step()\n",
        "          sum_err = sum_err + errD\n",
        "\n",
        "          if i % 50 == 0:\n",
        "              print(f'epoch : {epoch} , iter : {i} , dis err: {errD.item()}  , gen err: {errG.item()} , {D_x}, {D_G_z1}, {D_G_z2}')\n",
        "\n",
        "          G_losses.append(errG.item())\n",
        "          D_losses.append(errD.item())\n",
        "    \n",
        "    return netG"
      ],
      "execution_count": 0,
      "outputs": []
    },
    {
      "cell_type": "code",
      "metadata": {
        "id": "5mNRCoTXi6JL",
        "colab_type": "code",
        "outputId": "2bd372ad-64b7-40ff-9888-90f884501545",
        "colab": {
          "base_uri": "https://localhost:8080/",
          "height": 357
        }
      },
      "source": [
        "netG = train(0.0001,20,150,32,12)"
      ],
      "execution_count": 0,
      "outputs": [
        {
          "output_type": "stream",
          "text": [
            "epoch : 0 , iter : 0 , dis err: 1.8006501197814941  , gen err: 1.3055551052093506 , 0.20896044373512268, 0.2094605565071106, 0.27102208137512207\n",
            "epoch : 1 , iter : 0 , dis err: 1.3870536088943481  , gen err: 0.6999809741973877 , 0.5013543963432312, 0.5017291903495789, 0.49659475684165955\n",
            "epoch : 2 , iter : 0 , dis err: 1.3810667991638184  , gen err: 0.6980000734329224 , 0.5004507899284363, 0.49783211946487427, 0.4975794553756714\n",
            "epoch : 3 , iter : 0 , dis err: 1.395916223526001  , gen err: 0.6902440786361694 , 0.4966202974319458, 0.5014177560806274, 0.501453697681427\n",
            "epoch : 4 , iter : 0 , dis err: 1.3815889358520508  , gen err: 0.6968743205070496 , 0.5011410713195801, 0.4987855553627014, 0.4981399178504944\n",
            "epoch : 5 , iter : 0 , dis err: 1.3863903284072876  , gen err: 0.6967782378196716 , 0.49898210167884827, 0.4990280568599701, 0.49818775057792664\n",
            "epoch : 6 , iter : 0 , dis err: 1.3659768104553223  , gen err: 0.7057017087936401 , 0.5047994256019592, 0.4945886433124542, 0.49376195669174194\n",
            "epoch : 7 , iter : 0 , dis err: 1.4013195037841797  , gen err: 0.6986462473869324 , 0.4953494071960449, 0.502831757068634, 0.4972582757472992\n",
            "epoch : 8 , iter : 0 , dis err: 1.4079945087432861  , gen err: 0.6862936615943909 , 0.4948233366012573, 0.5056144595146179, 0.5034387111663818\n",
            "epoch : 9 , iter : 0 , dis err: 1.3764934539794922  , gen err: 0.6937074661254883 , 0.4975612163543701, 0.49260056018829346, 0.4997199475765228\n",
            "epoch : 10 , iter : 0 , dis err: 1.4026858806610107  , gen err: 0.6849527359008789 , 0.5087122917175293, 0.5165526270866394, 0.5041140913963318\n",
            "epoch : 11 , iter : 0 , dis err: 1.3754940032958984  , gen err: 0.7025529146194458 , 0.5016108751296997, 0.4961935877799988, 0.4953191876411438\n",
            "epoch : 12 , iter : 0 , dis err: 1.3499293327331543  , gen err: 0.7384501099586487 , 0.5108913779258728, 0.49253660440444946, 0.4778541922569275\n",
            "epoch : 13 , iter : 0 , dis err: 1.3661032915115356  , gen err: 0.7849288582801819 , 0.5844745635986328, 0.5635405778884888, 0.45615267753601074\n",
            "epoch : 14 , iter : 0 , dis err: 1.4412778615951538  , gen err: 0.6717405915260315 , 0.48622211813926697, 0.5133389830589294, 0.5108187198638916\n",
            "epoch : 15 , iter : 0 , dis err: 1.3861117362976074  , gen err: 0.6976580023765564 , 0.49830108880996704, 0.49820366501808167, 0.4977496266365051\n",
            "epoch : 16 , iter : 0 , dis err: 1.360818862915039  , gen err: 0.6374802589416504 , 0.48343992233276367, 0.46952903270721436, 0.5286228656768799\n",
            "epoch : 17 , iter : 0 , dis err: 1.3550055027008057  , gen err: 0.7427564859390259 , 0.4831554889678955, 0.46612122654914856, 0.47580140829086304\n",
            "epoch : 18 , iter : 0 , dis err: 1.4102530479431152  , gen err: 0.6931949257850647 , 0.502875804901123, 0.5146183967590332, 0.49998578429222107\n",
            "epoch : 19 , iter : 0 , dis err: 1.38627028465271  , gen err: 0.7104876637458801 , 0.4975910186767578, 0.4975670576095581, 0.4914044737815857\n"
          ],
          "name": "stdout"
        }
      ]
    },
    {
      "cell_type": "code",
      "metadata": {
        "id": "FD98Mf0LmuLy",
        "colab_type": "code",
        "colab": {}
      },
      "source": [
        "latent = torch.randn(10000, 12, 150)\n",
        "dat = netG(latent)\n",
        "dat = dat.view(10000,12,-1)"
      ],
      "execution_count": 0,
      "outputs": []
    },
    {
      "cell_type": "code",
      "metadata": {
        "id": "cg_ocgQGnREK",
        "colab_type": "code",
        "colab": {}
      },
      "source": [
        "rets = []\n",
        "for i in range(10000):\n",
        "  rets.append(dat[i][-1][0].item())"
      ],
      "execution_count": 0,
      "outputs": []
    },
    {
      "cell_type": "markdown",
      "metadata": {
        "id": "LimA3jMp4ZkR",
        "colab_type": "text"
      },
      "source": [
        ""
      ]
    }
  ]
}