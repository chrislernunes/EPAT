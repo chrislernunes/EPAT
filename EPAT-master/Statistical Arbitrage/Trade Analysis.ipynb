{
 "cells": [
  {
   "cell_type": "code",
   "execution_count": 3,
   "metadata": {},
   "outputs": [],
   "source": [
    "import numpy as np\n",
    "import pandas as pd  \n",
    "import matplotlib.pyplot as plt  \n",
    "\n",
    "# Mean reversion strategy\n",
    "def mrs_pnl(lookback,std_dev,df):\n",
    "    df['moving_average'] = df.prices.rolling(lookback).mean()\n",
    "    df['moving_std_dev'] = df.prices.rolling(lookback).std()\n",
    "    df['upper_band'] = df.moving_average + std_dev*df.moving_std_dev\n",
    "    df['lower_band'] = df.moving_average - std_dev*df.moving_std_dev\n",
    "    df['long_entry'] = df.prices < df.lower_band   \n",
    "    df['long_exit'] = df.prices >= df.moving_average\n",
    "    df['short_entry'] = df.prices > df.upper_band   \n",
    "    df['short_exit'] = df.prices <= df.moving_average\n",
    "    df['positions_long'] = np.nan  \n",
    "    df.loc[df.long_entry,'positions_long']= 1  \n",
    "    df.loc[df.long_exit,'positions_long']= 0  \n",
    "    df['positions_short'] = np.nan  \n",
    "    df.loc[df.short_entry,'positions_short']= -1  \n",
    "    df.loc[df.short_exit,'positions_short']= 0  \n",
    "    df = df.fillna(method='ffill')  \n",
    "    df['positions'] = df.positions_long + df.positions_short\n",
    "    df['prices_difference']= df.prices - df.prices.shift(1)\n",
    "    df['daily_returns'] = df.prices_difference /df.prices.shift(1)\n",
    "    df['pnl'] = df.positions.shift(1) * df.daily_returns\n",
    "    df['cumpnl'] = df.pnl.cumsum()\n",
    "    return df "
   ]
  },
  {
   "cell_type": "code",
   "execution_count": 15,
   "metadata": {},
   "outputs": [
    {
     "name": "stdout",
     "output_type": "stream",
     "text": [
      "[*********************100%***********************]  1 of 1 downloaded\n"
     ]
    },
    {
     "data": {
      "text/html": [
       "<div>\n",
       "<style>\n",
       "    .dataframe thead tr:only-child th {\n",
       "        text-align: right;\n",
       "    }\n",
       "\n",
       "    .dataframe thead th {\n",
       "        text-align: left;\n",
       "    }\n",
       "\n",
       "    .dataframe tbody tr th {\n",
       "        vertical-align: top;\n",
       "    }\n",
       "</style>\n",
       "<table border=\"1\" class=\"dataframe\">\n",
       "  <thead>\n",
       "    <tr style=\"text-align: right;\">\n",
       "      <th></th>\n",
       "      <th>Open</th>\n",
       "      <th>High</th>\n",
       "      <th>Low</th>\n",
       "      <th>Close</th>\n",
       "      <th>Adj Close</th>\n",
       "      <th>Volume</th>\n",
       "    </tr>\n",
       "    <tr>\n",
       "      <th>Date</th>\n",
       "      <th></th>\n",
       "      <th></th>\n",
       "      <th></th>\n",
       "      <th></th>\n",
       "      <th></th>\n",
       "      <th></th>\n",
       "    </tr>\n",
       "  </thead>\n",
       "  <tbody>\n",
       "    <tr>\n",
       "      <th>2015-04-02</th>\n",
       "      <td>1.0435</td>\n",
       "      <td>1.04626</td>\n",
       "      <td>1.04234</td>\n",
       "      <td>1.04350</td>\n",
       "      <td>1.04350</td>\n",
       "      <td>0</td>\n",
       "    </tr>\n",
       "    <tr>\n",
       "      <th>2015-04-05</th>\n",
       "      <td>1.0473</td>\n",
       "      <td>1.04930</td>\n",
       "      <td>1.04387</td>\n",
       "      <td>1.04740</td>\n",
       "      <td>1.04740</td>\n",
       "      <td>0</td>\n",
       "    </tr>\n",
       "    <tr>\n",
       "      <th>2015-04-06</th>\n",
       "      <td>1.0473</td>\n",
       "      <td>1.04760</td>\n",
       "      <td>1.04320</td>\n",
       "      <td>1.04730</td>\n",
       "      <td>1.04730</td>\n",
       "      <td>0</td>\n",
       "    </tr>\n",
       "    <tr>\n",
       "      <th>2015-04-07</th>\n",
       "      <td>1.0451</td>\n",
       "      <td>1.04661</td>\n",
       "      <td>1.04210</td>\n",
       "      <td>1.04500</td>\n",
       "      <td>1.04500</td>\n",
       "      <td>0</td>\n",
       "    </tr>\n",
       "    <tr>\n",
       "      <th>2015-04-08</th>\n",
       "      <td>1.0420</td>\n",
       "      <td>1.04480</td>\n",
       "      <td>1.04051</td>\n",
       "      <td>1.04193</td>\n",
       "      <td>1.04193</td>\n",
       "      <td>0</td>\n",
       "    </tr>\n",
       "  </tbody>\n",
       "</table>\n",
       "</div>"
      ],
      "text/plain": [
       "              Open     High      Low    Close  Adj Close  Volume\n",
       "Date                                                            \n",
       "2015-04-02  1.0435  1.04626  1.04234  1.04350    1.04350       0\n",
       "2015-04-05  1.0473  1.04930  1.04387  1.04740    1.04740       0\n",
       "2015-04-06  1.0473  1.04760  1.04320  1.04730    1.04730       0\n",
       "2015-04-07  1.0451  1.04661  1.04210  1.04500    1.04500       0\n",
       "2015-04-08  1.0420  1.04480  1.04051  1.04193    1.04193       0"
      ]
     },
     "execution_count": 15,
     "metadata": {},
     "output_type": "execute_result"
    }
   ],
   "source": [
    "import fix_yahoo_finance as yf\n",
    "df = yf.download('EURCHF=X','2015-4-4','2019-4-4')\n",
    "df.head()       "
   ]
  },
  {
   "cell_type": "code",
   "execution_count": 54,
   "metadata": {},
   "outputs": [],
   "source": [
    "df = df.rename(columns={'Adj Close':'prices'})\n",
    "df = mrs_pnl(5,0.5,df)"
   ]
  },
  {
   "cell_type": "code",
   "execution_count": 18,
   "metadata": {},
   "outputs": [
    {
     "data": {
      "text/plain": [
       "<matplotlib.axes._subplots.AxesSubplot at 0x11751c690>"
      ]
     },
     "execution_count": 18,
     "metadata": {},
     "output_type": "execute_result"
    },
    {
     "data": {
      "image/png": "[encoded data removed]",
      "text/plain": [
       "<matplotlib.figure.Figure at 0x10f0f0c90>"
      ]
     },
     "metadata": {},
     "output_type": "display_data"
    }
   ],
   "source": [
    "%matplotlib inline\n",
    "df.cumpnl.plot()"
   ]
  },
  {
   "cell_type": "code",
   "execution_count": 43,
   "metadata": {},
   "outputs": [
    {
     "data": {
      "text/html": [
       "<div>\n",
       "<style>\n",
       "    .dataframe thead tr:only-child th {\n",
       "        text-align: right;\n",
       "    }\n",
       "\n",
       "    .dataframe thead th {\n",
       "        text-align: left;\n",
       "    }\n",
       "\n",
       "    .dataframe tbody tr th {\n",
       "        vertical-align: top;\n",
       "    }\n",
       "</style>\n",
       "<table border=\"1\" class=\"dataframe\">\n",
       "  <thead>\n",
       "    <tr style=\"text-align: right;\">\n",
       "      <th></th>\n",
       "      <th>Open</th>\n",
       "      <th>High</th>\n",
       "      <th>Low</th>\n",
       "      <th>Close</th>\n",
       "      <th>prices</th>\n",
       "      <th>Volume</th>\n",
       "      <th>moving_average</th>\n",
       "      <th>moving_std_dev</th>\n",
       "      <th>upper_band</th>\n",
       "      <th>lower_band</th>\n",
       "      <th>...</th>\n",
       "      <th>short_entry</th>\n",
       "      <th>short_exit</th>\n",
       "      <th>positions_long</th>\n",
       "      <th>positions_short</th>\n",
       "      <th>positions</th>\n",
       "      <th>prices_difference</th>\n",
       "      <th>daily_returns</th>\n",
       "      <th>pnl</th>\n",
       "      <th>cumpnl</th>\n",
       "      <th>trade_number</th>\n",
       "    </tr>\n",
       "    <tr>\n",
       "      <th>Date</th>\n",
       "      <th></th>\n",
       "      <th></th>\n",
       "      <th></th>\n",
       "      <th></th>\n",
       "      <th></th>\n",
       "      <th></th>\n",
       "      <th></th>\n",
       "      <th></th>\n",
       "      <th></th>\n",
       "      <th></th>\n",
       "      <th></th>\n",
       "      <th></th>\n",
       "      <th></th>\n",
       "      <th></th>\n",
       "      <th></th>\n",
       "      <th></th>\n",
       "      <th></th>\n",
       "      <th></th>\n",
       "      <th></th>\n",
       "      <th></th>\n",
       "      <th></th>\n",
       "    </tr>\n",
       "  </thead>\n",
       "  <tbody>\n",
       "    <tr>\n",
       "      <th>2019-03-28</th>\n",
       "      <td>1.11920</td>\n",
       "      <td>1.12136</td>\n",
       "      <td>1.11780</td>\n",
       "      <td>1.11919</td>\n",
       "      <td>1.11919</td>\n",
       "      <td>0</td>\n",
       "      <td>1.122670</td>\n",
       "      <td>0.003404</td>\n",
       "      <td>1.124372</td>\n",
       "      <td>1.120968</td>\n",
       "      <td>...</td>\n",
       "      <td>False</td>\n",
       "      <td>True</td>\n",
       "      <td>1.0</td>\n",
       "      <td>0.0</td>\n",
       "      <td>1.0</td>\n",
       "      <td>-0.00131</td>\n",
       "      <td>-0.001169</td>\n",
       "      <td>-0.001169</td>\n",
       "      <td>0.289407</td>\n",
       "      <td>345.0</td>\n",
       "    </tr>\n",
       "    <tr>\n",
       "      <th>2019-03-29</th>\n",
       "      <td>1.11710</td>\n",
       "      <td>1.12002</td>\n",
       "      <td>1.11656</td>\n",
       "      <td>1.11720</td>\n",
       "      <td>1.11720</td>\n",
       "      <td>0</td>\n",
       "      <td>1.120490</td>\n",
       "      <td>0.002399</td>\n",
       "      <td>1.121689</td>\n",
       "      <td>1.119291</td>\n",
       "      <td>...</td>\n",
       "      <td>False</td>\n",
       "      <td>True</td>\n",
       "      <td>1.0</td>\n",
       "      <td>0.0</td>\n",
       "      <td>1.0</td>\n",
       "      <td>-0.00199</td>\n",
       "      <td>-0.001778</td>\n",
       "      <td>-0.001778</td>\n",
       "      <td>0.287629</td>\n",
       "      <td>345.0</td>\n",
       "    </tr>\n",
       "    <tr>\n",
       "      <th>2019-03-31</th>\n",
       "      <td>1.11680</td>\n",
       "      <td>1.12027</td>\n",
       "      <td>1.11660</td>\n",
       "      <td>1.11680</td>\n",
       "      <td>1.11680</td>\n",
       "      <td>0</td>\n",
       "      <td>1.119310</td>\n",
       "      <td>0.002489</td>\n",
       "      <td>1.120555</td>\n",
       "      <td>1.118065</td>\n",
       "      <td>...</td>\n",
       "      <td>False</td>\n",
       "      <td>True</td>\n",
       "      <td>1.0</td>\n",
       "      <td>0.0</td>\n",
       "      <td>1.0</td>\n",
       "      <td>-0.00040</td>\n",
       "      <td>-0.000358</td>\n",
       "      <td>-0.000358</td>\n",
       "      <td>0.287271</td>\n",
       "      <td>345.0</td>\n",
       "    </tr>\n",
       "    <tr>\n",
       "      <th>2019-04-01</th>\n",
       "      <td>1.11975</td>\n",
       "      <td>1.12026</td>\n",
       "      <td>1.11680</td>\n",
       "      <td>1.11970</td>\n",
       "      <td>1.11970</td>\n",
       "      <td>0</td>\n",
       "      <td>1.118678</td>\n",
       "      <td>0.001608</td>\n",
       "      <td>1.119482</td>\n",
       "      <td>1.117874</td>\n",
       "      <td>...</td>\n",
       "      <td>True</td>\n",
       "      <td>False</td>\n",
       "      <td>0.0</td>\n",
       "      <td>-1.0</td>\n",
       "      <td>-1.0</td>\n",
       "      <td>0.00290</td>\n",
       "      <td>0.002597</td>\n",
       "      <td>0.002597</td>\n",
       "      <td>0.289868</td>\n",
       "      <td>345.0</td>\n",
       "    </tr>\n",
       "    <tr>\n",
       "      <th>2019-04-02</th>\n",
       "      <td>1.11824</td>\n",
       "      <td>1.12120</td>\n",
       "      <td>1.11809</td>\n",
       "      <td>1.11819</td>\n",
       "      <td>1.11819</td>\n",
       "      <td>0</td>\n",
       "      <td>1.118216</td>\n",
       "      <td>0.001244</td>\n",
       "      <td>1.118838</td>\n",
       "      <td>1.117594</td>\n",
       "      <td>...</td>\n",
       "      <td>False</td>\n",
       "      <td>True</td>\n",
       "      <td>0.0</td>\n",
       "      <td>0.0</td>\n",
       "      <td>0.0</td>\n",
       "      <td>-0.00151</td>\n",
       "      <td>-0.001349</td>\n",
       "      <td>0.001349</td>\n",
       "      <td>0.291216</td>\n",
       "      <td>346.0</td>\n",
       "    </tr>\n",
       "  </tbody>\n",
       "</table>\n",
       "<p>5 rows × 22 columns</p>\n",
       "</div>"
      ],
      "text/plain": [
       "               Open     High      Low    Close   prices  Volume  \\\n",
       "Date                                                              \n",
       "2019-03-28  1.11920  1.12136  1.11780  1.11919  1.11919       0   \n",
       "2019-03-29  1.11710  1.12002  1.11656  1.11720  1.11720       0   \n",
       "2019-03-31  1.11680  1.12027  1.11660  1.11680  1.11680       0   \n",
       "2019-04-01  1.11975  1.12026  1.11680  1.11970  1.11970       0   \n",
       "2019-04-02  1.11824  1.12120  1.11809  1.11819  1.11819       0   \n",
       "\n",
       "            moving_average  moving_std_dev  upper_band  lower_band  \\\n",
       "Date                                                                 \n",
       "2019-03-28        1.122670        0.003404    1.124372    1.120968   \n",
       "2019-03-29        1.120490        0.002399    1.121689    1.119291   \n",
       "2019-03-31        1.119310        0.002489    1.120555    1.118065   \n",
       "2019-04-01        1.118678        0.001608    1.119482    1.117874   \n",
       "2019-04-02        1.118216        0.001244    1.118838    1.117594   \n",
       "\n",
       "                ...       short_entry  short_exit  positions_long  \\\n",
       "Date            ...                                                 \n",
       "2019-03-28      ...             False        True             1.0   \n",
       "2019-03-29      ...             False        True             1.0   \n",
       "2019-03-31      ...             False        True             1.0   \n",
       "2019-04-01      ...              True       False             0.0   \n",
       "2019-04-02      ...             False        True             0.0   \n",
       "\n",
       "            positions_short  positions  prices_difference  daily_returns  \\\n",
       "Date                                                                       \n",
       "2019-03-28              0.0        1.0           -0.00131      -0.001169   \n",
       "2019-03-29              0.0        1.0           -0.00199      -0.001778   \n",
       "2019-03-31              0.0        1.0           -0.00040      -0.000358   \n",
       "2019-04-01             -1.0       -1.0            0.00290       0.002597   \n",
       "2019-04-02              0.0        0.0           -0.00151      -0.001349   \n",
       "\n",
       "                 pnl    cumpnl  trade_number  \n",
       "Date                                          \n",
       "2019-03-28 -0.001169  0.289407         345.0  \n",
       "2019-03-29 -0.001778  0.287629         345.0  \n",
       "2019-03-31 -0.000358  0.287271         345.0  \n",
       "2019-04-01  0.002597  0.289868         345.0  \n",
       "2019-04-02  0.001349  0.291216         346.0  \n",
       "\n",
       "[5 rows x 22 columns]"
      ]
     },
     "execution_count": 43,
     "metadata": {},
     "output_type": "execute_result"
    }
   ],
   "source": [
    "count = 0\n",
    "df['trade_number'] = np.nan\n",
    "for i in range(1,len(df)-1):\n",
    "    if df.positions.iloc[i] != df.positions.iloc[i-1]:\n",
    "        count = count + 1\n",
    "        df.trade_number.iloc[i+1] = count\n",
    "df.trade_number.fillna(method='ffill', inplace=True)\n",
    "df.tail()        "
   ]
  },
  {
   "cell_type": "code",
   "execution_count": 47,
   "metadata": {},
   "outputs": [
    {
     "data": {
      "text/plain": [
       "trade_number\n",
       "342.0    0.004788\n",
       "343.0    0.002331\n",
       "344.0    0.000000\n",
       "345.0   -0.013209\n",
       "346.0    0.001349\n",
       "Name: pnl, dtype: float64"
      ]
     },
     "execution_count": 47,
     "metadata": {},
     "output_type": "execute_result"
    }
   ],
   "source": [
    "trade_wise_pnl = df.groupby(by='trade_number').pnl.sum()\n",
    "trade_wise_pnl.tail()"
   ]
  },
  {
   "cell_type": "markdown",
   "metadata": {},
   "source": [
    "## Positive PnL Trades"
   ]
  },
  {
   "cell_type": "code",
   "execution_count": 49,
   "metadata": {},
   "outputs": [
    {
     "data": {
      "text/plain": [
       "179"
      ]
     },
     "execution_count": 49,
     "metadata": {},
     "output_type": "execute_result"
    }
   ],
   "source": [
    "trade_wise_pnl[trade_wise_pnl>0].count()"
   ]
  },
  {
   "cell_type": "markdown",
   "metadata": {},
   "source": [
    "## Negative PnL Trades"
   ]
  },
  {
   "cell_type": "code",
   "execution_count": 50,
   "metadata": {},
   "outputs": [
    {
     "data": {
      "text/plain": [
       "71"
      ]
     },
     "execution_count": 50,
     "metadata": {},
     "output_type": "execute_result"
    }
   ],
   "source": [
    "trade_wise_pnl[trade_wise_pnl<0].count()"
   ]
  }
 ],
 "metadata": {
  "kernelspec": {
   "display_name": "Python 2",
   "language": "python",
   "name": "python2"
  },
  "language_info": {
   "codemirror_mode": {
    "name": "ipython",
    "version": 2
   },
   "file_extension": ".py",
   "mimetype": "text/x-python",
   "name": "python",
   "nbconvert_exporter": "python",
   "pygments_lexer": "ipython2",
   "version": "2.7.14"
  }
 },
 "nbformat": 4,
 "nbformat_minor": 2
}
